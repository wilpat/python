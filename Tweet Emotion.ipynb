{
 "cells": [
  {
   "cell_type": "code",
   "execution_count": 3,
   "metadata": {},
   "outputs": [],
   "source": [
    "import tweepy\n",
    "from textblob import TextBlob\n",
    "import csv\n",
    "import matplotlib.pyplot as plt"
   ]
  },
  {
   "cell_type": "code",
   "execution_count": 9,
   "metadata": {},
   "outputs": [],
   "source": [
    "consumer_key = '<Your consumer_key>'\n",
    "consumer_secret = '<Your consumer_secret>'\n",
    "access_token = '<Your access tokey>'\n",
    "access_token_secret = '<Your token secret>'"
   ]
  },
  {
   "cell_type": "code",
   "execution_count": 12,
   "metadata": {},
   "outputs": [],
   "source": [
    "auth = tweepy.OAuthHandler(consumer_key, consumer_secret)\n",
    "auth.set_access_token(access_token, access_token_secret)\n",
    "\n",
    "api = tweepy.API(auth)\n",
    "topic = '<Your query>'\n",
    "public_tweets = api.search(query,count=100)"
   ]
  },
  {
   "cell_type": "code",
   "execution_count": 13,
   "metadata": {},
   "outputs": [
    {
     "name": "stdout",
     "output_type": "stream",
     "text": [
      "Done\n"
     ]
    }
   ],
   "source": [
    "tweet_sentiments =[]\n",
    "#Opening the dataset.csv filefor writinh the tweets in it\n",
    "with open('dataset.csv', mode='w', encoding ='utf-8') as tweets_file:\n",
    "    tweet_writer = csv.writer(tweets_file, delimiter = ',', quotechar = '\"', quoting = csv.QUOTE_MINIMAL)\n",
    "    #Labelling the columns for the tweet dataset\n",
    "    tweet_writer.writerow(['Tweet', 'Author', 'Date', 'Sentiment Polarity'])\n",
    "    #Analyzing each tweet from the tweets list and storing it in a csv file\n",
    "    for tweet in public_tweets:\n",
    "        tweet_text = tweet.text\n",
    "        tweet_user = tweet.user.name\n",
    "        tweet_created_at = tweet.created_at\n",
    "        tweet_sentiment = TextBlob(tweet_text).sentiment.polarity\n",
    "        tweet_sentiments.append(TextBlob(tweet_text).sentiment.polarity)\n",
    "#         print(tweet_text, tweet_user, tweet_created_at)\n",
    "#         print(\"Sentiment is %f\" % tweet_sentiment)\n",
    "        tweet_writer.writerow([tweet_text, tweet_user, tweet_created_at, tweet_sentiment])\n",
    "    print('Done')"
   ]
  },
  {
   "cell_type": "code",
   "execution_count": 20,
   "metadata": {},
   "outputs": [
    {
     "data": {
      "text/plain": [
       "Text(0,0.5,'Frequency')"
      ]
     },
     "execution_count": 20,
     "metadata": {},
     "output_type": "execute_result"
    },
    {
     "data": {
      "image/png": "[encoded data removed]",
      "text/plain": [
       "<Figure size 432x288 with 1 Axes>"
      ]
     },
     "metadata": {},
     "output_type": "display_data"
    }
   ],
   "source": [
    "plt.hist(tweet_sentiments, bins=4, range=(-1,1))\n",
    "plt.title(\"Tweet Sentiments For Topic\")\n",
    "plt.xlabel(\"Sentiment\")\n",
    "plt.ylabel(\"Frequency\")"
   ]
  },
  {
   "cell_type": "code",
   "execution_count": null,
   "metadata": {},
   "outputs": [],
   "source": []
  }
 ],
 "metadata": {
  "kernelspec": {
   "display_name": "Python 3",
   "language": "python",
   "name": "python3"
  },
  "language_info": {
   "codemirror_mode": {
    "name": "ipython",
    "version": 3
   },
   "file_extension": ".py",
   "mimetype": "text/x-python",
   "name": "python",
   "nbconvert_exporter": "python",
   "pygments_lexer": "ipython3",
   "version": "3.6.5"
  }
 },
 "nbformat": 4,
 "nbformat_minor": 2
}

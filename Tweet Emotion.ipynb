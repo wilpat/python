{
 "cells": [
  {
   "cell_type": "code",
   "execution_count": 14,
   "metadata": {},
   "outputs": [],
   "source": [
    "import tweepy\n",
    "from textblob import TextBlob\n",
    "import csv"
   ]
  },
  {
   "cell_type": "code",
   "execution_count": 2,
   "metadata": {},
   "outputs": [],
   "source": [
    "consumer_key = 'UCujhsLfO0glDQ8OPdp4HRML5'\n",
    "consumer_secret = 'TAKFH2IArh2hcF3vEh3BVLevuCNvCpf5bVHVlEgGYgVnkICFBm'\n",
    "access_token = '371175989-AxkfksYUF8r4Js66YDX32vBPugtxlX76Ex9knttc'\n",
    "access_token_secret = 'rkfbATQzJo87S9wuwe2Plaj5Inj6eSQJuhIK3YXuvGg8o'"
   ]
  },
  {
   "cell_type": "code",
   "execution_count": 3,
   "metadata": {},
   "outputs": [],
   "source": [
    "auth = tweepy.OAuthHandler(consumer_key, consumer_secret)\n",
    "auth.set_access_token(access_token, access_token_secret)\n",
    "\n",
    "api = tweepy.API(auth)\n",
    "\n",
    "public_tweets = api.search('Buhari')"
   ]
  },
  {
   "cell_type": "code",
   "execution_count": 18,
   "metadata": {},
   "outputs": [
    {
     "name": "stdout",
     "output_type": "stream",
     "text": [
      "Done\n"
     ]
    }
   ],
   "source": [
    "#Opening the dataset.csv filefor writinh the tweets in it\n",
    "with open('dataset.csv', mode='w', encoding ='utf-8') as tweets_file:\n",
    "    tweet_writer = csv.writer(tweets_file, delimiter = ',', quotechar = '\"', quoting = csv.QUOTE_MINIMAL)\n",
    "    #Labelling the columns for the tweet dataset\n",
    "    tweet_writer.writerow(['Tweet', 'Author', 'Date', 'Sentiment Polarity'])\n",
    "    #Analyzing each tweet from the tweets list and storing it in a csv file\n",
    "    for tweet in public_tweets:\n",
    "        tweet_text = tweet.text\n",
    "        tweet_user = tweet.user.name\n",
    "        tweet_created_at = tweet.created_at\n",
    "        tweet_sentiment = TextBlob(tweet_text).sentiment.polarity\n",
    "#         print(tweet_text, tweet_user, tweet_created_at)\n",
    "#         print(\"Sentiment is %f\" % tweet_sentiment)\n",
    "        tweet_writer.writerow([tweet_text, tweet_user, tweet_created_at, tweet_sentiment])\n",
    "    print('Done')"
   ]
  },
  {
   "cell_type": "code",
   "execution_count": null,
   "metadata": {},
   "outputs": [],
   "source": []
  }
 ],
 "metadata": {
  "kernelspec": {
   "display_name": "Python 3",
   "language": "python",
   "name": "python3"
  },
  "language_info": {
   "codemirror_mode": {
    "name": "ipython",
    "version": 3
   },
   "file_extension": ".py",
   "mimetype": "text/x-python",
   "name": "python",
   "nbconvert_exporter": "python",
   "pygments_lexer": "ipython3",
   "version": "3.6.5"
  }
 },
 "nbformat": 4,
 "nbformat_minor": 2
}
